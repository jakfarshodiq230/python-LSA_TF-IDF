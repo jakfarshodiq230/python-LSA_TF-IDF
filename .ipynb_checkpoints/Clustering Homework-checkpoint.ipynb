{
 "metadata": {
  "name": "",
  "signature": "sha256:5968854ef63bd3fe768f53f3eec74b50f1e1ff1b0c364f1a240c3cd47eff5693"
 },
 "nbformat": 3,
 "nbformat_minor": 0,
 "worksheets": [
  {
   "cells": [
    {
     "cell_type": "code",
     "collapsed": false,
     "input": [
      "from sklearn import datasets\n",
      "import pandas as pd\n",
      "from sklearn.cluster import KMeans\n",
      "from sklearn.preprocessing import StandardScaler\n",
      "import numpy as np\n",
      "\n",
      "%matplotlib inline"
     ],
     "language": "python",
     "metadata": {},
     "outputs": [],
     "prompt_number": 4
    },
    {
     "cell_type": "code",
     "collapsed": false,
     "input": [
      "iris = datasets.load_iris()\n",
      "X = iris.data\n",
      "df = pd.DataFrame(X)\n",
      "df.columns = iris.feature_names\n"
     ],
     "language": "python",
     "metadata": {},
     "outputs": [],
     "prompt_number": 13
    },
    {
     "cell_type": "markdown",
     "metadata": {},
     "source": [
      "The dataset we're using today contains information about flowers called an iris.  We're going to use K-Means clustering to atttempt to identify unique types of iris.\n",
      "\n",
      "Step 1:  Use my method below to identify how many groups are in the dataset.\n",
      "\n",
      "Step 2:  add the kmeans cluster labels into the dataframe df.\n"
     ]
    },
    {
     "cell_type": "code",
     "collapsed": false,
     "input": [
      "df.head()"
     ],
     "language": "python",
     "metadata": {},
     "outputs": [
      {
       "html": [
        "<div style=\"max-height:1000px;max-width:1500px;overflow:auto;\">\n",
        "<table border=\"1\" class=\"dataframe\">\n",
        "  <thead>\n",
        "    <tr style=\"text-align: right;\">\n",
        "      <th></th>\n",
        "      <th>sepal length (cm)</th>\n",
        "      <th>sepal width (cm)</th>\n",
        "      <th>petal length (cm)</th>\n",
        "      <th>petal width (cm)</th>\n",
        "    </tr>\n",
        "  </thead>\n",
        "  <tbody>\n",
        "    <tr>\n",
        "      <th>0</th>\n",
        "      <td> 5.1</td>\n",
        "      <td> 3.5</td>\n",
        "      <td> 1.4</td>\n",
        "      <td> 0.2</td>\n",
        "    </tr>\n",
        "    <tr>\n",
        "      <th>1</th>\n",
        "      <td> 4.9</td>\n",
        "      <td> 3.0</td>\n",
        "      <td> 1.4</td>\n",
        "      <td> 0.2</td>\n",
        "    </tr>\n",
        "    <tr>\n",
        "      <th>2</th>\n",
        "      <td> 4.7</td>\n",
        "      <td> 3.2</td>\n",
        "      <td> 1.3</td>\n",
        "      <td> 0.2</td>\n",
        "    </tr>\n",
        "    <tr>\n",
        "      <th>3</th>\n",
        "      <td> 4.6</td>\n",
        "      <td> 3.1</td>\n",
        "      <td> 1.5</td>\n",
        "      <td> 0.2</td>\n",
        "    </tr>\n",
        "    <tr>\n",
        "      <th>4</th>\n",
        "      <td> 5.0</td>\n",
        "      <td> 3.6</td>\n",
        "      <td> 1.4</td>\n",
        "      <td> 0.2</td>\n",
        "    </tr>\n",
        "  </tbody>\n",
        "</table>\n",
        "</div>"
       ],
       "metadata": {},
       "output_type": "pyout",
       "prompt_number": 16,
       "text": [
        "   sepal length (cm)  sepal width (cm)  petal length (cm)  petal width (cm)\n",
        "0                5.1               3.5                1.4               0.2\n",
        "1                4.9               3.0                1.4               0.2\n",
        "2                4.7               3.2                1.3               0.2\n",
        "3                4.6               3.1                1.5               0.2\n",
        "4                5.0               3.6                1.4               0.2"
       ]
      }
     ],
     "prompt_number": 16
    },
    {
     "cell_type": "code",
     "collapsed": false,
     "input": [
      "def find_k (X, k_range, sample_percent=1):\n",
      "    \"\"\"\n",
      "    k_range: a list of possible k values\n",
      "    X, the data we're clustering on\n",
      "    \"\"\"\n",
      "    from sklearn.cluster import KMeans\n",
      "    import matplotlib.pyplot as plt\n",
      "    import numpy as np\n",
      "    from scipy.spatial.distance import cdist\n",
      "    from sklearn.metrics import pairwise_distances\n",
      "\n",
      "    N = X.shape[0]\n",
      "    sampleSize = X.shape[0] * sample_percent\n",
      "\n",
      "    if sampleSize > 0:\n",
      "        index = np.arange(np.shape(X)[0])\n",
      "        np.random.shuffle(index)\n",
      "        X =  X[index, :]\n",
      "\n",
      "\n",
      "    mean_distortions=[]\n",
      "    for k in k_range:\n",
      "        #cluster using k, then calculate the mean distortion (average distance to closest centroid)\n",
      "        kmeans_model = KMeans(n_clusters=k, init='k-means++', n_jobs=-1).fit(X)\n",
      "        mean_distortions.append(sum(np.min(pairwise_distances(X, kmeans_model.cluster_centers_,\n",
      "                                                              metric='euclidean'),axis=1)) / X.shape[0])\n",
      "\n",
      "\n",
      "    #visualize results\n",
      "    plt.plot(k_range, mean_distortions)\n",
      "    plt.xlabel(\"K Value\")\n",
      "    plt.ylabel(\"Mean Distortion\")\n",
      "    plt.title(\"Elbow Graph for Mean Distortion per K\")\n",
      "    plt.show()"
     ],
     "language": "python",
     "metadata": {},
     "outputs": [],
     "prompt_number": 8
    },
    {
     "cell_type": "code",
     "collapsed": false,
     "input": [],
     "language": "python",
     "metadata": {},
     "outputs": []
    }
   ],
   "metadata": {}
  }
 ]
}