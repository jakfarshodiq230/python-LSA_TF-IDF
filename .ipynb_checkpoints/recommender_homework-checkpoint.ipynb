{
 "metadata": {
  "name": "",
  "signature": "sha256:1913c00965e6931dae32012dfd77176e18dd3e4972981ea190e04de88df6548d"
 },
 "nbformat": 3,
 "nbformat_minor": 0,
 "worksheets": [
  {
   "cells": [
    {
     "cell_type": "code",
     "collapsed": false,
     "input": [
      "import pandas as pd\n",
      "import numpy as np"
     ],
     "language": "python",
     "metadata": {},
     "outputs": [],
     "prompt_number": 68
    },
    {
     "cell_type": "code",
     "collapsed": false,
     "input": [
      "#download the class movie reviews from here:\n",
      "#https://docs.google.com/spreadsheets/d/17rCJzmWxqvAu9rkpkgt4ToccIlY4A1Ffuu1W9X3B8Ag/\n",
      "#then read that in as a pandas dataframe"
     ],
     "language": "python",
     "metadata": {},
     "outputs": []
    },
    {
     "cell_type": "code",
     "collapsed": false,
     "input": [
      "M = pd.read_csv(\"\"\"***FILENANE GOES HERE***\"\"\", index_col='Name')"
     ],
     "language": "python",
     "metadata": {},
     "outputs": [],
     "prompt_number": 69
    },
    {
     "cell_type": "code",
     "collapsed": false,
     "input": [
      "def pearson(s1, s2):\n",
      "    \"\"\"Take two pd.Series objects and return a pearson correlation.\"\"\"\n",
      "    s1_c = s1 - s1.mean()\n",
      "    s2_c = s2 - s2.mean()\n",
      "    return np.sum(s1_c * s2_c) / np.sqrt(np.sum(s1_c ** 2) * np.sum(s2_c ** 2))"
     ],
     "language": "python",
     "metadata": {},
     "outputs": [],
     "prompt_number": 71
    },
    {
     "cell_type": "code",
     "collapsed": false,
     "input": [
      "def get_recs(movie_name, M, num):\n",
      "\n",
      "    import numpy as np\n",
      "    reviews = []\n",
      "    for title in M.columns:\n",
      "        if title == movie_name:\n",
      "            continue\n",
      "        cor = pearson(M[movie_name], M[title])\n",
      "        if np.isnan(cor):\n",
      "            continue\n",
      "        else:\n",
      "            reviews.append((title, cor))\n",
      "    \n",
      "    reviews.sort(key=lambda tup: tup[1], reverse=True)\n",
      "    return reviews[:num]\n",
      "\n",
      "    "
     ],
     "language": "python",
     "metadata": {},
     "outputs": [],
     "prompt_number": 74
    },
    {
     "cell_type": "markdown",
     "metadata": {},
     "source": [
      "###Question 1:  What movie is most Similar to 'The fault in our stars' (60 pts)\n"
     ]
    },
    {
     "cell_type": "code",
     "collapsed": false,
     "input": [],
     "language": "python",
     "metadata": {},
     "outputs": []
    },
    {
     "cell_type": "markdown",
     "metadata": {},
     "source": [
      "###Question 2:  Which movie(s) would you most like to see, based on your classmates experience? (40 pts)"
     ]
    },
    {
     "cell_type": "code",
     "collapsed": false,
     "input": [
      "#HINTS...\n",
      "\n",
      "#the movies I've seen\n",
      "my_ratings = M.ix['Mike'].dropna()\n",
      "#the movie I've rated the highest\n",
      "my_ratings.sort(ascending=False)\n",
      "#the name of the movie I've rated the highest\n",
      "fav_movie = my_ratings.index[0]"
     ],
     "language": "python",
     "metadata": {},
     "outputs": [],
     "prompt_number": 110
    },
    {
     "cell_type": "markdown",
     "metadata": {},
     "source": [
      "###Question 3: Bonus Question...  For all the movies you haven't seen, can you predict how you'd rate them using your the class reviews? (10 pts)"
     ]
    },
    {
     "cell_type": "code",
     "collapsed": false,
     "input": [],
     "language": "python",
     "metadata": {},
     "outputs": []
    }
   ],
   "metadata": {}
  }
 ]
}