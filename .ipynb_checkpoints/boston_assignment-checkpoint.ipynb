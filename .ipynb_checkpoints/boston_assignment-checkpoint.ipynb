{
 "metadata": {
  "name": "",
  "signature": "sha256:d7272b1aa6ffbc9e96d611fdda8a9fb6687711be7b3aa94e1b43be5b0b50fd61"
 },
 "nbformat": 3,
 "nbformat_minor": 0,
 "worksheets": [
  {
   "cells": [
    {
     "cell_type": "markdown",
     "metadata": {},
     "source": [
      "## Boston Housing Assignment\n",
      "\n",
      "In this assignment you'll be using linear regression to estimate the cost of house in boston, using a well known dataset.\n",
      "\n",
      "Goals:\n",
      "+  Measure the performance of the model I created using $R^{2}$ and MSE\n",
      "> Learn how to use sklearn.metrics.r2_score and sklearn.metrics.mean_squared_error\n",
      "+  Implement a new model using L2 regularization\n",
      "> Use sklearn.linear_model.Ridge or sklearn.linear_model.Lasso \n",
      "+  Get the best model you can by optimizing the regularization parameter.   "
     ]
    },
    {
     "cell_type": "code",
     "collapsed": false,
     "input": [
      "from sklearn import datasets\n",
      "import pandas as pd\n",
      "from sklearn.preprocessing import StandardScaler\n",
      "from sklearn.cross_validation import train_test_split\n",
      "from sklearn.metrics import mean_squared_error\n",
      "from sklearn.metrics import r2_score\n",
      "from sklearn.linear_model import LinearRegression"
     ],
     "language": "python",
     "metadata": {},
     "outputs": [],
     "prompt_number": 16
    },
    {
     "cell_type": "code",
     "collapsed": false,
     "input": [
      "bean = datasets.load_boston()\n",
      "print bean.DESCR"
     ],
     "language": "python",
     "metadata": {},
     "outputs": [
      {
       "output_type": "stream",
       "stream": "stdout",
       "text": [
        "Boston House Prices dataset\n",
        "\n",
        "Notes\n",
        "------\n",
        "Data Set Characteristics:  \n",
        "\n",
        "    :Number of Instances: 506 \n",
        "\n",
        "    :Number of Attributes: 13 numeric/categorical predictive\n",
        "    \n",
        "    :Median Value (attribute 14) is usually the target\n",
        "\n",
        "    :Attribute Information (in order):\n",
        "        - CRIM     per capita crime rate by town\n",
        "        - ZN       proportion of residential land zoned for lots over 25,000 sq.ft.\n",
        "        - INDUS    proportion of non-retail business acres per town\n",
        "        - CHAS     Charles River dummy variable (= 1 if tract bounds river; 0 otherwise)\n",
        "        - NOX      nitric oxides concentration (parts per 10 million)\n",
        "        - RM       average number of rooms per dwelling\n",
        "        - AGE      proportion of owner-occupied units built prior to 1940\n",
        "        - DIS      weighted distances to five Boston employment centres\n",
        "        - RAD      index of accessibility to radial highways\n",
        "        - TAX      full-value property-tax rate per $10,000\n",
        "        - PTRATIO  pupil-teacher ratio by town\n",
        "        - B        1000(Bk - 0.63)^2 where Bk is the proportion of blacks by town\n",
        "        - LSTAT    % lower status of the population\n",
        "        - MEDV     Median value of owner-occupied homes in $1000's\n",
        "\n",
        "    :Missing Attribute Values: None\n",
        "\n",
        "    :Creator: Harrison, D. and Rubinfeld, D.L.\n",
        "\n",
        "This is a copy of UCI ML housing dataset.\n",
        "http://archive.ics.uci.edu/ml/datasets/Housing\n",
        "\n",
        "\n",
        "This dataset was taken from the StatLib library which is maintained at Carnegie Mellon University.\n",
        "\n",
        "The Boston house-price data of Harrison, D. and Rubinfeld, D.L. 'Hedonic\n",
        "prices and the demand for clean air', J. Environ. Economics & Management,\n",
        "vol.5, 81-102, 1978.   Used in Belsley, Kuh & Welsch, 'Regression diagnostics\n",
        "...', Wiley, 1980.   N.B. Various transformations are used in the table on\n",
        "pages 244-261 of the latter.\n",
        "\n",
        "The Boston house-price data has been used in many machine learning papers that address regression\n",
        "problems.   \n",
        "     \n",
        "**References**\n",
        "\n",
        "   - Belsley, Kuh & Welsch, 'Regression diagnostics: Identifying Influential Data and Sources of Collinearity', Wiley, 1980. 244-261.\n",
        "   - Quinlan,R. (1993). Combining Instance-Based and Model-Based Learning. In Proceedings on the Tenth International Conference of Machine Learning, 236-243, University of Massachusetts, Amherst. Morgan Kaufmann.\n",
        "   - many more! (see http://archive.ics.uci.edu/ml/datasets/Housing)\n",
        "\n"
       ]
      }
     ],
     "prompt_number": 13
    },
    {
     "cell_type": "code",
     "collapsed": false,
     "input": [
      "def load_boston():\n",
      "    scaler = StandardScaler()\n",
      "    boston = datasets.load_boston()\n",
      "    X=boston.data\n",
      "    y=boston.target\n",
      "    X = scaler.fit_transform(X)\n",
      "    return train_test_split(X,y)\n",
      "    "
     ],
     "language": "python",
     "metadata": {},
     "outputs": [],
     "prompt_number": 8
    },
    {
     "cell_type": "code",
     "collapsed": false,
     "input": [
      "X_train, X_test, y_train, y_test = load_boston()"
     ],
     "language": "python",
     "metadata": {},
     "outputs": [],
     "prompt_number": 9
    },
    {
     "cell_type": "code",
     "collapsed": false,
     "input": [
      "X_train.shape"
     ],
     "language": "python",
     "metadata": {},
     "outputs": [
      {
       "metadata": {},
       "output_type": "pyout",
       "prompt_number": 11,
       "text": [
        "(379, 13)"
       ]
      }
     ],
     "prompt_number": 11
    },
    {
     "cell_type": "markdown",
     "metadata": {},
     "source": [
      "### Fitting a Linear Regression\n",
      "\n",
      "It's as easy as instantiating a new regression object (line 1) and giving your regression object your training data\n",
      "(line 2) by calling .fit(independent variables, dependent variable)\n",
      "\n"
     ]
    },
    {
     "cell_type": "code",
     "collapsed": false,
     "input": [
      "\n",
      "clf = LinearRegression()\n",
      "clf.fit(X_train, y_train)"
     ],
     "language": "python",
     "metadata": {},
     "outputs": [
      {
       "metadata": {},
       "output_type": "pyout",
       "prompt_number": 17,
       "text": [
        "LinearRegression(copy_X=True, fit_intercept=True, normalize=False)"
       ]
      }
     ],
     "prompt_number": 17
    },
    {
     "cell_type": "markdown",
     "metadata": {},
     "source": [
      "### Making a Prediction\n",
      "X_test is our holdout set of data.  We know the answer (y_test) but the computer does not.   \n",
      "\n",
      "Using the command below, I create a tuple for each observation, where I'm combining the real value (y_test) with\n",
      "the value our regressor predicts (clf.predict(X_test))\n",
      "\n",
      "Use a similiar format to get your r2 and mse metrics working.  Using the [scikit learn api](http://scikit-learn.org/stable/modules/model_evaluation.html) if you need help!"
     ]
    },
    {
     "cell_type": "code",
     "collapsed": false,
     "input": [
      "zip (y_test, clf.predict(X_test))"
     ],
     "language": "python",
     "metadata": {},
     "outputs": [
      {
       "metadata": {},
       "output_type": "pyout",
       "prompt_number": 22,
       "text": [
        "[(12.699999999999999, 12.54646521557912),\n",
        " (24.100000000000001, 29.196833043425439),\n",
        " (20.800000000000001, 17.836589485942337),\n",
        " (22.0, 27.457168230815167),\n",
        " (17.399999999999999, 15.966520984835817),\n",
        " (19.800000000000001, 18.745782999886345),\n",
        " (31.5, 30.591913387519298),\n",
        " (44.0, 37.221270511613682),\n",
        " (28.399999999999999, 28.36105781555078),\n",
        " (7.5, 13.487105149094402),\n",
        " (12.300000000000001, 13.137982335867076),\n",
        " (22.100000000000001, 26.462935949440404),\n",
        " (19.100000000000001, 16.678112888359699),\n",
        " (23.699999999999999, 11.93111115463374),\n",
        " (11.699999999999999, 13.969863983712907),\n",
        " (8.3000000000000007, 12.852033040342066),\n",
        " (21.699999999999999, 21.613672151811667),\n",
        " (15.4, 15.551273211118382),\n",
        " (19.399999999999999, 23.297036697168377),\n",
        " (18.699999999999999, 20.844707029476446),\n",
        " (35.200000000000003, 34.209459024494379),\n",
        " (23.0, 22.547714500538095),\n",
        " (20.100000000000001, 23.960861149573198),\n",
        " (43.100000000000001, 37.111385376702309),\n",
        " (23.100000000000001, 25.444587869059312),\n",
        " (22.199999999999999, 24.129388790702805),\n",
        " (19.100000000000001, 16.573852351754073),\n",
        " (7.0, 8.2507539987413807),\n",
        " (25.300000000000001, 24.997290565082075),\n",
        " (8.3000000000000007, 9.9822095143954748),\n",
        " (24.600000000000001, 28.860180360303286),\n",
        " (19.899999999999999, 17.331834308212233),\n",
        " (18.899999999999999, 23.733209328371078),\n",
        " (11.300000000000001, 13.461574691079845),\n",
        " (20.600000000000001, 20.48807899683263),\n",
        " (19.300000000000001, 20.359011330135136),\n",
        " (50.0, 36.44721442996449),\n",
        " (19.199999999999999, 23.428874726956305),\n",
        " (20.0, 18.195491594016218),\n",
        " (18.800000000000001, 20.704272200756613),\n",
        " (17.800000000000001, 22.32865087970178),\n",
        " (20.5, 20.227223612040689),\n",
        " (17.800000000000001, 18.445173432239915),\n",
        " (45.399999999999999, 38.463952966866771),\n",
        " (18.600000000000001, 19.642787403053781),\n",
        " (22.199999999999999, 19.625384732903406),\n",
        " (10.9, 18.348075095578373),\n",
        " (15.1, 16.911727240638196),\n",
        " (25.0, 28.484753473604854),\n",
        " (24.399999999999999, 22.54391214856896),\n",
        " (23.399999999999999, 23.66003675389176),\n",
        " (17.100000000000001, 19.330314013994961),\n",
        " (12.5, 19.086624920442969),\n",
        " (20.199999999999999, 16.272500187872893),\n",
        " (21.699999999999999, 20.608018643550132),\n",
        " (27.100000000000001, 27.082712778093999),\n",
        " (22.699999999999999, 24.468789604699833),\n",
        " (21.399999999999999, 22.453140847636938),\n",
        " (16.800000000000001, 20.568771537832276),\n",
        " (23.100000000000001, 10.04607216981864),\n",
        " (23.100000000000001, 23.091921472931464),\n",
        " (43.799999999999997, 34.668224980437813),\n",
        " (16.100000000000001, 20.632607138916772),\n",
        " (23.399999999999999, 24.115700971652085),\n",
        " (23.699999999999999, 27.183536714225141),\n",
        " (28.199999999999999, 32.514171591746702),\n",
        " (23.800000000000001, 22.747386990375201),\n",
        " (17.199999999999999, 15.339118165107568),\n",
        " (25.0, 24.327987369774821),\n",
        " (23.699999999999999, 26.031148589643173),\n",
        " (50.0, 32.139789448652628),\n",
        " (26.399999999999999, 22.999743782559428),\n",
        " (27.5, 19.445230208445871),\n",
        " (16.600000000000001, 18.738796847418623),\n",
        " (19.600000000000001, 21.267203335329569),\n",
        " (34.899999999999999, 29.983014429316878),\n",
        " (14.1, 18.291851821803444),\n",
        " (9.6999999999999993, 10.058743189014464),\n",
        " (20.800000000000001, 22.949500293351448),\n",
        " (29.800000000000001, 24.803891840962855),\n",
        " (32.0, 32.896317436384116),\n",
        " (10.800000000000001, 11.697367939846082),\n",
        " (35.399999999999999, 34.034209824256649),\n",
        " (50.0, 23.899479111387723),\n",
        " (20.300000000000001, 23.510530420974593),\n",
        " (7.2000000000000002, 8.5065829641406552),\n",
        " (41.299999999999997, 32.500667462889162),\n",
        " (20.100000000000001, 17.928513612325034),\n",
        " (22.899999999999999, 24.959539196001607),\n",
        " (16.5, 12.904640321726035),\n",
        " (9.5, 13.082352491095318),\n",
        " (48.5, 41.662577788150422),\n",
        " (5.5999999999999996, 12.165935801546512),\n",
        " (22.899999999999999, 28.517779426054059),\n",
        " (23.600000000000001, 28.887072857262865),\n",
        " (22.0, 27.453089925451167),\n",
        " (32.5, 30.824134617524802),\n",
        " (31.600000000000001, 33.149226214297329),\n",
        " (29.100000000000001, 30.040864885339211),\n",
        " (46.700000000000003, 34.846174025067427),\n",
        " (33.100000000000001, 32.317329572796744),\n",
        " (17.100000000000001, 17.278836977713045),\n",
        " (21.899999999999999, 24.226828293189769),\n",
        " (14.800000000000001, 15.347183533364618),\n",
        " (24.300000000000001, 24.419407530195212),\n",
        " (25.100000000000001, 28.890424973329203),\n",
        " (21.199999999999999, 23.19421744621906),\n",
        " (29.0, 31.720060060067247),\n",
        " (5.0, 7.085069062314858),\n",
        " (50.0, 43.276697900669618),\n",
        " (11.800000000000001, 13.195297250401591),\n",
        " (19.600000000000001, 18.061510099893589),\n",
        " (14.5, 14.572996304017622),\n",
        " (23.899999999999999, 27.699882008816438),\n",
        " (13.5, 12.641821516187067),\n",
        " (21.699999999999999, 21.50962682301498),\n",
        " (18.800000000000001, 20.814366581484737),\n",
        " (22.0, 25.999052154571366),\n",
        " (50.0, 23.97244668490141),\n",
        " (21.800000000000001, 20.511743781809141),\n",
        " (12.0, 11.525308349343527),\n",
        " (20.399999999999999, 19.65861347407046),\n",
        " (19.399999999999999, 19.927512626503628),\n",
        " (8.0999999999999996, 4.0121096821355664),\n",
        " (33.0, 23.999946793204977),\n",
        " (15.300000000000001, 19.173456287382859),\n",
        " (18.899999999999999, 15.847924115114864)]"
       ]
      }
     ],
     "prompt_number": 22
    },
    {
     "cell_type": "code",
     "collapsed": false,
     "input": [],
     "language": "python",
     "metadata": {},
     "outputs": []
    }
   ],
   "metadata": {}
  }
 ]
}