{
 "metadata": {
  "name": "",
  "signature": "sha256:8d67d10b26e8a2d46dcfa94cccb59c3702af0beba1443de06dc3fbaf25040e3e"
 },
 "nbformat": 3,
 "nbformat_minor": 0,
 "worksheets": [
  {
   "cells": [
    {
     "cell_type": "markdown",
     "metadata": {},
     "source": [
      "##Advanced Validation Lecture"
     ]
    },
    {
     "cell_type": "code",
     "collapsed": false,
     "input": [
      "import pandas as pd\n",
      "import numpy as np\n",
      "from sklearn.ensemble import RandomForestClassifier\n",
      "from sklearn.grid_search import GridSearchCV\n",
      "from sklearn.cross_validation import train_test_split\n",
      "from sklearn.metrics import roc_auc_score\n",
      "from sklearn.metrics import classification_report\n",
      "from sklearn.metrics import confusion_matrix\n",
      "from sklearn.metrics import accuracy_score\n",
      "from sklearn.metrics import roc_curve\n",
      "import math\n",
      "\n",
      "%pylab inline"
     ],
     "language": "python",
     "metadata": {},
     "outputs": [
      {
       "output_type": "stream",
       "stream": "stdout",
       "text": [
        "Populating the interactive namespace from numpy and matplotlib\n"
       ]
      }
     ],
     "prompt_number": 189
    },
    {
     "cell_type": "markdown",
     "metadata": {},
     "source": [
      "### Dataset:  World Bowliards League\n",
      "\n",
      "Bowliards is a highly competative sport, similar to bowling, that requires players to strike a set of inflatable 'bumpers' before their ball strikes the pins.   \n",
      "\n",
      "My dataset today contains the results from the first round of the world bowliards show down.   We'd like to use this data to predict future successes (dependent variable 'win') based on the independent variables contained in the dataset. "
     ]
    },
    {
     "cell_type": "code",
     "collapsed": false,
     "input": [
      "data = pd.read_csv(\"bowliards.csv\")"
     ],
     "language": "python",
     "metadata": {},
     "outputs": [],
     "prompt_number": 60
    },
    {
     "cell_type": "code",
     "collapsed": false,
     "input": [
      "data.head()"
     ],
     "language": "python",
     "metadata": {},
     "outputs": [
      {
       "html": [
        "<div style=\"max-height:1000px;max-width:1500px;overflow:auto;\">\n",
        "<table border=\"1\" class=\"dataframe\">\n",
        "  <thead>\n",
        "    <tr style=\"text-align: right;\">\n",
        "      <th></th>\n",
        "      <th>Unnamed: 0</th>\n",
        "      <th>player_number</th>\n",
        "      <th>shoe_size</th>\n",
        "      <th>games_this_season</th>\n",
        "      <th>games_last_season</th>\n",
        "      <th>games_career</th>\n",
        "      <th>times_faced_opponent</th>\n",
        "      <th>bounces_per_bowl</th>\n",
        "      <th>bumper_inflation</th>\n",
        "      <th>win</th>\n",
        "    </tr>\n",
        "  </thead>\n",
        "  <tbody>\n",
        "    <tr>\n",
        "      <th>0</th>\n",
        "      <td> 0</td>\n",
        "      <td> 1000025</td>\n",
        "      <td> 7</td>\n",
        "      <td>  5</td>\n",
        "      <td> 10</td>\n",
        "      <td> 100</td>\n",
        "      <td>  4</td>\n",
        "      <td> 3</td>\n",
        "      <td> 100</td>\n",
        "      <td> 0</td>\n",
        "    </tr>\n",
        "    <tr>\n",
        "      <th>1</th>\n",
        "      <td> 1</td>\n",
        "      <td> 1002945</td>\n",
        "      <td> 7</td>\n",
        "      <td> 20</td>\n",
        "      <td> 40</td>\n",
        "      <td> 500</td>\n",
        "      <td> 40</td>\n",
        "      <td> 3</td>\n",
        "      <td> 200</td>\n",
        "      <td> 0</td>\n",
        "    </tr>\n",
        "    <tr>\n",
        "      <th>2</th>\n",
        "      <td> 2</td>\n",
        "      <td> 1015425</td>\n",
        "      <td> 5</td>\n",
        "      <td>  5</td>\n",
        "      <td> 10</td>\n",
        "      <td> 100</td>\n",
        "      <td>  8</td>\n",
        "      <td> 3</td>\n",
        "      <td> 100</td>\n",
        "      <td> 0</td>\n",
        "    </tr>\n",
        "    <tr>\n",
        "      <th>3</th>\n",
        "      <td> 3</td>\n",
        "      <td> 1016277</td>\n",
        "      <td> 8</td>\n",
        "      <td> 40</td>\n",
        "      <td> 80</td>\n",
        "      <td> 100</td>\n",
        "      <td> 16</td>\n",
        "      <td> 3</td>\n",
        "      <td> 700</td>\n",
        "      <td> 0</td>\n",
        "    </tr>\n",
        "    <tr>\n",
        "      <th>4</th>\n",
        "      <td> 4</td>\n",
        "      <td> 1017023</td>\n",
        "      <td> 6</td>\n",
        "      <td>  5</td>\n",
        "      <td> 10</td>\n",
        "      <td> 300</td>\n",
        "      <td>  4</td>\n",
        "      <td> 3</td>\n",
        "      <td> 100</td>\n",
        "      <td> 0</td>\n",
        "    </tr>\n",
        "  </tbody>\n",
        "</table>\n",
        "</div>"
       ],
       "metadata": {},
       "output_type": "pyout",
       "prompt_number": 61,
       "text": [
        "   Unnamed: 0  player_number  shoe_size  games_this_season  games_last_season  \\\n",
        "0           0        1000025          7                  5                 10   \n",
        "1           1        1002945          7                 20                 40   \n",
        "2           2        1015425          5                  5                 10   \n",
        "3           3        1016277          8                 40                 80   \n",
        "4           4        1017023          6                  5                 10   \n",
        "\n",
        "   games_career  times_faced_opponent  bounces_per_bowl  bumper_inflation  win  \n",
        "0           100                     4                 3               100    0  \n",
        "1           500                    40                 3               200    0  \n",
        "2           100                     8                 3               100    0  \n",
        "3           100                    16                 3               700    0  \n",
        "4           300                     4                 3               100    0  "
       ]
      }
     ],
     "prompt_number": 61
    },
    {
     "cell_type": "code",
     "collapsed": false,
     "input": [
      "data = data.drop(['Unnamed: 0', 'player_number'], axis=1)"
     ],
     "language": "python",
     "metadata": {},
     "outputs": [],
     "prompt_number": 62
    },
    {
     "cell_type": "code",
     "collapsed": false,
     "input": [
      "#Setting the feature we want to predict\n",
      "y = data.pop(\"win\")"
     ],
     "language": "python",
     "metadata": {},
     "outputs": [],
     "prompt_number": 63
    },
    {
     "cell_type": "code",
     "collapsed": false,
     "input": [
      "X_train, X_test, y_train, y_test = train_test_split(data, y, test_size=.2, random_state=42)"
     ],
     "language": "python",
     "metadata": {},
     "outputs": [],
     "prompt_number": 194
    },
    {
     "cell_type": "markdown",
     "metadata": {},
     "source": [
      "###Random Forest Model"
     ]
    },
    {
     "cell_type": "code",
     "collapsed": false,
     "input": [
      "### Grid Search\n",
      "n_estimators = [300,400,500]\n",
      "max_features = ['auto', 'sqrt','log2']\n",
      "min_samples_split = [3,5,7]\n",
      "\n",
      "\n",
      "rfc = RandomForestClassifier(n_jobs=1)\n",
      "#Parameters of pipelines can be set using \u2018__\u2019 separated parameter names:\n",
      "estimator = GridSearchCV(rfc,\n",
      "                         dict(n_estimators=n_estimators,\n",
      "                              max_features=max_features,\n",
      "                              min_samples_split=min_samples_split\n",
      "                              ), cv=None, n_jobs=-1)\n",
      "                              "
     ],
     "language": "python",
     "metadata": {},
     "outputs": [],
     "prompt_number": 195
    },
    {
     "cell_type": "markdown",
     "metadata": {},
     "source": [
      "### Grid Search!"
     ]
    },
    {
     "cell_type": "code",
     "collapsed": false,
     "input": [
      "estimator.fit(X_train, y_train)"
     ],
     "language": "python",
     "metadata": {},
     "outputs": [
      {
       "metadata": {},
       "output_type": "pyout",
       "prompt_number": 196,
       "text": [
        "GridSearchCV(cv=None,\n",
        "       estimator=RandomForestClassifier(bootstrap=True, compute_importances=None,\n",
        "            criterion='gini', max_depth=None, max_features='auto',\n",
        "            max_leaf_nodes=None, min_density=None, min_samples_leaf=1,\n",
        "            min_samples_split=2, n_estimators=10, n_jobs=1,\n",
        "            oob_score=False, random_state=None, verbose=0),\n",
        "       fit_params={}, iid=True, loss_func=None, n_jobs=-1,\n",
        "       param_grid={'min_samples_split': [3, 5, 7], 'max_features': ['auto', 'sqrt', 'log2'], 'n_estimators': [300, 400, 500]},\n",
        "       pre_dispatch='2*n_jobs', refit=True, score_func=None, scoring=None,\n",
        "       verbose=0)"
       ]
      }
     ],
     "prompt_number": 196
    },
    {
     "cell_type": "code",
     "collapsed": false,
     "input": [
      "estimator.best_estimator_"
     ],
     "language": "python",
     "metadata": {},
     "outputs": [
      {
       "metadata": {},
       "output_type": "pyout",
       "prompt_number": 197,
       "text": [
        "RandomForestClassifier(bootstrap=True, compute_importances=None,\n",
        "            criterion='gini', max_depth=None, max_features='auto',\n",
        "            max_leaf_nodes=None, min_density=None, min_samples_leaf=1,\n",
        "            min_samples_split=3, n_estimators=500, n_jobs=1,\n",
        "            oob_score=False, random_state=None, verbose=0)"
       ]
      }
     ],
     "prompt_number": 197
    },
    {
     "cell_type": "code",
     "collapsed": false,
     "input": [
      "best_rfc = estimator.best_estimator_"
     ],
     "language": "python",
     "metadata": {},
     "outputs": [],
     "prompt_number": 198
    },
    {
     "cell_type": "markdown",
     "metadata": {},
     "source": [
      "### Accuracy\n",
      "\n",
      "Not the same as Accuracy"
     ]
    },
    {
     "cell_type": "code",
     "collapsed": false,
     "input": [
      "accuracy = accuracy_score(y_test, best_rfc.predict(X_test))\n",
      "print \"Accuracy: \", accuracy"
     ],
     "language": "python",
     "metadata": {},
     "outputs": [
      {
       "output_type": "stream",
       "stream": "stdout",
       "text": [
        "Accuracy:  0.971428571429\n"
       ]
      }
     ],
     "prompt_number": 207
    },
    {
     "cell_type": "code",
     "collapsed": false,
     "input": [
      "y_hat = best_rfc.predict(X_test)"
     ],
     "language": "python",
     "metadata": {},
     "outputs": [],
     "prompt_number": 208
    },
    {
     "cell_type": "code",
     "collapsed": false,
     "input": [
      "y_hat"
     ],
     "language": "python",
     "metadata": {},
     "outputs": [
      {
       "metadata": {},
       "output_type": "pyout",
       "prompt_number": 209,
       "text": [
        "array([0, 0, 0, 1, 0, 0, 0, 1, 1, 0, 0, 1, 0, 0, 0, 1, 0, 1, 1, 1, 1, 0, 1,\n",
        "       0, 1, 0, 0, 1, 0, 1, 0, 0, 0, 1, 0, 0, 0, 1, 0, 1, 0, 0, 1, 0, 0, 0,\n",
        "       0, 1, 0, 0, 0, 0, 1, 0, 0, 0, 0, 1, 0, 0, 0, 0, 1, 0, 0, 0, 1, 1, 0,\n",
        "       0, 1, 0, 1, 0, 0, 0, 0, 1, 0, 0, 0, 0, 0, 0, 0, 1, 1, 0, 0, 0, 0, 0,\n",
        "       1, 0, 0, 1, 0, 0, 0, 0, 0, 0, 0, 1, 1, 0, 1, 0, 0, 1, 1, 0, 0, 1, 0,\n",
        "       1, 0, 0, 0, 0, 0, 1, 0, 0, 1, 1, 0, 0, 1, 1, 0, 0, 1, 0, 1, 0, 1, 0,\n",
        "       0, 0])"
       ]
      }
     ],
     "prompt_number": 209
    },
    {
     "cell_type": "code",
     "collapsed": false,
     "input": [
      "y_test"
     ],
     "language": "python",
     "metadata": {},
     "outputs": [
      {
       "metadata": {},
       "output_type": "pyout",
       "prompt_number": 210,
       "text": [
        "array([0, 0, 0, 1, 0, 0, 0, 1, 1, 1, 0, 1, 0, 0, 0, 1, 0, 1, 1, 1, 1, 0, 1,\n",
        "       0, 1, 0, 0, 1, 0, 1, 0, 0, 0, 1, 0, 0, 0, 1, 0, 1, 0, 0, 1, 0, 0, 0,\n",
        "       0, 0, 0, 0, 0, 0, 1, 0, 1, 0, 0, 1, 0, 0, 0, 0, 1, 0, 0, 0, 1, 1, 0,\n",
        "       0, 1, 0, 1, 0, 0, 0, 0, 1, 0, 0, 0, 0, 0, 0, 0, 1, 1, 0, 0, 0, 0, 0,\n",
        "       1, 0, 0, 1, 0, 0, 0, 0, 0, 0, 0, 1, 1, 0, 1, 0, 0, 1, 0, 0, 0, 1, 0,\n",
        "       1, 0, 0, 0, 0, 0, 1, 0, 0, 1, 1, 0, 0, 1, 1, 0, 0, 1, 0, 1, 0, 1, 0,\n",
        "       0, 0])"
       ]
      }
     ],
     "prompt_number": 210
    },
    {
     "cell_type": "code",
     "collapsed": false,
     "input": [
      "correct = 0\n",
      "total = y_test.shape[0]\n",
      "for pred_val, truth_val in zip(y_hat, y_test):\n",
      "    if pred_val == truth_val:\n",
      "        correct +=1\n",
      "\n",
      "print correct / float(total)\n",
      "        "
     ],
     "language": "python",
     "metadata": {},
     "outputs": [
      {
       "output_type": "stream",
       "stream": "stdout",
       "text": [
        "0.971428571429\n"
       ]
      }
     ],
     "prompt_number": 211
    },
    {
     "cell_type": "markdown",
     "metadata": {},
     "source": [
      "### Precision and Recall"
     ]
    },
    {
     "cell_type": "code",
     "collapsed": false,
     "input": [
      "print classification_report(y_test, best_rfc.predict(X_test))"
     ],
     "language": "python",
     "metadata": {},
     "outputs": [
      {
       "output_type": "stream",
       "stream": "stdout",
       "text": [
        "             precision    recall  f1-score   support\n",
        "\n",
        "          0       0.98      0.98      0.98        95\n",
        "          1       0.96      0.96      0.96        45\n",
        "\n",
        "avg / total       0.97      0.97      0.97       140\n",
        "\n"
       ]
      }
     ],
     "prompt_number": 212
    },
    {
     "cell_type": "markdown",
     "metadata": {},
     "source": [
      "Precision:   The model will correctly identify 90% of winners.   Conversely there is a 10% chance it will identify a non-winner as a winner.  (tp / tp+fp)\n",
      "\n",
      "Recall:  Of the people the model identified as winners, 91% of them will actually be winners.  (tp / tp + fn)"
     ]
    },
    {
     "cell_type": "code",
     "collapsed": false,
     "input": [
      "print confusion_matrix(y_test, best_rfc.predict(X_test))"
     ],
     "language": "python",
     "metadata": {},
     "outputs": [
      {
       "output_type": "stream",
       "stream": "stdout",
       "text": [
        "[[93  2]\n",
        " [ 2 43]]\n"
       ]
      }
     ],
     "prompt_number": 231
    },
    {
     "cell_type": "markdown",
     "metadata": {},
     "source": [
      "**Precision:**  43 / 43 + 2 = .96\n",
      "\n",
      "**Recall:**   43 / 43 + 2 = .96"
     ]
    },
    {
     "cell_type": "markdown",
     "metadata": {},
     "source": [
      "### AUC"
     ]
    },
    {
     "cell_type": "code",
     "collapsed": false,
     "input": [
      "roc = roc_auc_score(y_test, best_rfc.predict_proba(X_test)[:,1])\n",
      "print \"AUC Score: \", roc"
     ],
     "language": "python",
     "metadata": {},
     "outputs": [
      {
       "output_type": "stream",
       "stream": "stdout",
       "text": [
        "AUC Score:  0.996725146199\n"
       ]
      }
     ],
     "prompt_number": 214
    },
    {
     "cell_type": "code",
     "collapsed": false,
     "input": [
      "fpr, tpr, thresholds = roc_curve(y_test, best_rfc.predict_proba(X_test)[:,1])\n",
      "# Plot of a ROC curve for a specific class\n",
      "plt.figure()\n",
      "plt.plot(fpr, tpr, label='ROC curve (area = %0.2f)' % roc)\n",
      "plt.plot([0, 1], [0, 1], 'k--')\n",
      "plt.xlim([0.0, 1.0])\n",
      "plt.ylim([0.0, 1.05])\n",
      "plt.xlabel('False Positive Rate')\n",
      "plt.ylabel('True Positive Rate')\n",
      "plt.title('Receiver operating characteristic example')\n",
      "plt.legend(loc=\"lower right\")\n",
      "plt.show()"
     ],
     "language": "python",
     "metadata": {},
     "outputs": [
      {
       "metadata": {},
       "output_type": "display_data",
       "png": "[encoded data removed]",
       "text": [
        "<matplotlib.figure.Figure at 0x7fd460264fd0>"
       ]
      }
     ],
     "prompt_number": 215
    },
    {
     "cell_type": "markdown",
     "metadata": {},
     "source": [
      "### But!  \n",
      "\n",
      "So far our entire strategy has been to fit a model as strongly as possible to our 20% holdout.   What if our 20% hold out doesn't contain the tricky cases, or certain edge cases?  What if our random 20% sample doesn't really reflect reality?\n",
      "\n",
      "When we choose hyperparameters, we choose them to optimize the 20% holdout.   \n",
      "\n",
      "Our model will overfit to the 20% holdout, and may not actually perform well in real life.\n",
      "\n",
      "\n"
     ]
    },
    {
     "cell_type": "markdown",
     "metadata": {},
     "source": [
      "### Train, Test, Validation\n",
      "\n",
      "What if instead, we split our data into three sets?   \n",
      "\n",
      "Train = 60% for training\n",
      "\n",
      "Validation = 20% for model tuning\n",
      "\n",
      "Test = 20% for actual model testing.   Not used for parameter estimation.\n",
      "\n",
      "\n",
      "**Pros:**  This keeps overfitting to our test set under control.   \n",
      "\n",
      "**Cons:** Our training data keeps getting smaller.   \n",
      "\n",
      "Good method for very large N, but here we have a smaller N.\n"
     ]
    },
    {
     "cell_type": "markdown",
     "metadata": {},
     "source": [
      "### K-Fold Cross Validation\n",
      "\n",
      "1.  Split the data into K chunks\n",
      "2.  Train K models, retain a chunk for testing and use the other K-1 chunks for training.\n",
      "3.  The result is K scores, which can be combined into a single average score for the model"
     ]
    },
    {
     "cell_type": "code",
     "collapsed": false,
     "input": [
      "from sklearn import cross_validation\n",
      "scores = cross_validation.cross_val_score(best_rfc, data, y, cv=10)"
     ],
     "language": "python",
     "metadata": {},
     "outputs": [],
     "prompt_number": 216
    },
    {
     "cell_type": "code",
     "collapsed": false,
     "input": [
      "scores"
     ],
     "language": "python",
     "metadata": {},
     "outputs": [
      {
       "metadata": {},
       "output_type": "pyout",
       "prompt_number": 217,
       "text": [
        "array([ 0.92957746,  0.95714286,  0.97142857,  0.91428571,  0.98571429,\n",
        "        0.98571429,  0.98571429,  0.98571429,  0.98550725,  1.        ])"
       ]
      }
     ],
     "prompt_number": 217
    },
    {
     "cell_type": "code",
     "collapsed": false,
     "input": [
      "mean_score = scores.mean()\n",
      "std_dev = scores.std()\n",
      "std_error = scores.std() / math.sqrt(scores.shape[0])\n",
      "ci =  2.262 * std_error\n",
      "lower_bound = mean_score - ci\n",
      "upper_bound = mean_score + ci\n",
      "\n",
      "print \"Score is %f +/-  %f\" % (mean_score, ci)\n",
      "print '95 percent probability that if this experiment were repeated over and over the average score would be between %f and %f' % (lower_bound, upper_bound)"
     ],
     "language": "python",
     "metadata": {},
     "outputs": [
      {
       "output_type": "stream",
       "stream": "stdout",
       "text": [
        "Score is 0.970080 +/-  0.018971\n",
        "95 percent probability that if this experiment were repeated over and over the average score would be between 0.951109 and 0.989050\n"
       ]
      }
     ],
     "prompt_number": 232
    },
    {
     "cell_type": "code",
     "collapsed": false,
     "input": [],
     "language": "python",
     "metadata": {},
     "outputs": []
    }
   ],
   "metadata": {}
  }
 ]
}