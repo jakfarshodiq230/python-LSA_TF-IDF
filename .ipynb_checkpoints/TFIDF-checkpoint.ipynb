{
 "metadata": {
  "name": "",
  "signature": "sha256:dd76954eba7bd7d287dfd79ba1755cc47dc26f3567a4cc137a2b078727607ffd"
 },
 "nbformat": 3,
 "nbformat_minor": 0,
 "worksheets": [
  {
   "cells": [
    {
     "cell_type": "markdown",
     "metadata": {},
     "source": [
      "## Today, we're teaching computers how to read\n",
      "\n",
      "Computers are great at crunching numbers.   But crunching words?  Not so much...   So, today, we're going to send our computer to school and teach it to read.   How? By converting words to numbers.  \n",
      "\n",
      "In this tutorial I'll cover the most basic parts of 'language processing.' There's a lot to language processing, or text analytics, and this is only a start, but you can do alot with the things we cover here. "
     ]
    },
    {
     "cell_type": "markdown",
     "metadata": {},
     "source": [
      "### What's a Corpus?\n",
      "\n",
      "Lets start with a brief corpus of documents.  A corpus is a collection.   "
     ]
    },
    {
     "cell_type": "code",
     "collapsed": false,
     "input": [
      "docA = \"the cat sat on my face\"\n",
      "docB = \"the dog sat on my bed\""
     ],
     "language": "python",
     "metadata": {},
     "outputs": [],
     "prompt_number": 2
    },
    {
     "cell_type": "markdown",
     "metadata": {},
     "source": [
      "### Tokenizing\n",
      "Most of the time when we work on text, we can use the 'Bag Of Words' model to represent a document.   In the BOW model, each document can be thought of as a bag of words..."
     ]
    },
    {
     "cell_type": "code",
     "collapsed": false,
     "input": [
      "bowA = docA.split(\" \")\n",
      "bowB = docB.split(\" \")"
     ],
     "language": "python",
     "metadata": {},
     "outputs": [],
     "prompt_number": 4
    },
    {
     "cell_type": "code",
     "collapsed": false,
     "input": [
      "bowB"
     ],
     "language": "python",
     "metadata": {},
     "outputs": [
      {
       "metadata": {},
       "output_type": "pyout",
       "prompt_number": 5,
       "text": [
        "['the', 'dog', 'sat', 'on', 'my', 'bed']"
       ]
      }
     ],
     "prompt_number": 5
    },
    {
     "cell_type": "markdown",
     "metadata": {},
     "source": [
      "Splitting a document up into the component words like this is called 'tokenizing.'\n",
      "\n",
      "Ok, so the documents are tokenized, but how do we convert a tokenized BOW into numbers?  \n",
      "\n",
      "There are a few strategies.   One simple strategy could be to create a vector of all possible words, and for each document count how many times each word appears."
     ]
    },
    {
     "cell_type": "code",
     "collapsed": false,
     "input": [
      "wordSet= set(bowA).union(set(bowB))"
     ],
     "language": "python",
     "metadata": {},
     "outputs": [],
     "prompt_number": 7
    },
    {
     "cell_type": "code",
     "collapsed": false,
     "input": [
      "#all words in all bags/documents\n",
      "wordSet"
     ],
     "language": "python",
     "metadata": {},
     "outputs": [
      {
       "metadata": {},
       "output_type": "pyout",
       "prompt_number": 8,
       "text": [
        "{'bed', 'cat', 'dog', 'face', 'my', 'on', 'sat', 'the'}"
       ]
      }
     ],
     "prompt_number": 8
    },
    {
     "cell_type": "code",
     "collapsed": false,
     "input": [
      "#I'll create dictionaries to keep my word counts.\n",
      "wordDictA = dict.fromkeys(wordSet, 0)\n",
      "wordDictB = dict.fromkeys(wordSet, 0)"
     ],
     "language": "python",
     "metadata": {},
     "outputs": [],
     "prompt_number": 31
    },
    {
     "cell_type": "code",
     "collapsed": false,
     "input": [
      "#This is what one of them looks like\n",
      "wordDictA"
     ],
     "language": "python",
     "metadata": {},
     "outputs": [
      {
       "metadata": {},
       "output_type": "pyout",
       "prompt_number": 32,
       "text": [
        "{'bed': 0, 'cat': 0, 'dog': 0, 'face': 0, 'my': 0, 'on': 0, 'sat': 0, 'the': 0}"
       ]
      }
     ],
     "prompt_number": 32
    },
    {
     "cell_type": "code",
     "collapsed": false,
     "input": [
      "#now I'll count the words in my bags.\n",
      "for word in bowA:\n",
      "    wordDictA[word]+=1\n",
      "\n",
      "for word in bowB:\n",
      "    wordDictB[word]+=1"
     ],
     "language": "python",
     "metadata": {},
     "outputs": [],
     "prompt_number": 33
    },
    {
     "cell_type": "code",
     "collapsed": false,
     "input": [
      "wordDictA"
     ],
     "language": "python",
     "metadata": {},
     "outputs": [
      {
       "metadata": {},
       "output_type": "pyout",
       "prompt_number": 34,
       "text": [
        "{'bed': 0, 'cat': 1, 'dog': 0, 'face': 1, 'my': 1, 'on': 1, 'sat': 1, 'the': 1}"
       ]
      }
     ],
     "prompt_number": 34
    },
    {
     "cell_type": "code",
     "collapsed": false,
     "input": [
      "#Lastly I'll stick those into a matrix.\n",
      "import pandas as pd\n",
      "pd.DataFrame([wordDictA, wordDictB])"
     ],
     "language": "python",
     "metadata": {},
     "outputs": [
      {
       "html": [
        "<div style=\"max-height:1000px;max-width:1500px;overflow:auto;\">\n",
        "<table border=\"1\" class=\"dataframe\">\n",
        "  <thead>\n",
        "    <tr style=\"text-align: right;\">\n",
        "      <th></th>\n",
        "      <th>bed</th>\n",
        "      <th>cat</th>\n",
        "      <th>dog</th>\n",
        "      <th>face</th>\n",
        "      <th>my</th>\n",
        "      <th>on</th>\n",
        "      <th>sat</th>\n",
        "      <th>the</th>\n",
        "    </tr>\n",
        "  </thead>\n",
        "  <tbody>\n",
        "    <tr>\n",
        "      <th>0</th>\n",
        "      <td> 0</td>\n",
        "      <td> 1</td>\n",
        "      <td> 0</td>\n",
        "      <td> 1</td>\n",
        "      <td> 1</td>\n",
        "      <td> 1</td>\n",
        "      <td> 1</td>\n",
        "      <td> 1</td>\n",
        "    </tr>\n",
        "    <tr>\n",
        "      <th>1</th>\n",
        "      <td> 1</td>\n",
        "      <td> 0</td>\n",
        "      <td> 1</td>\n",
        "      <td> 0</td>\n",
        "      <td> 1</td>\n",
        "      <td> 1</td>\n",
        "      <td> 1</td>\n",
        "      <td> 1</td>\n",
        "    </tr>\n",
        "  </tbody>\n",
        "</table>\n",
        "</div>"
       ],
       "metadata": {},
       "output_type": "pyout",
       "prompt_number": 35,
       "text": [
        "   bed  cat  dog  face  my  on  sat  the\n",
        "0    0    1    0     1   1   1    1    1\n",
        "1    1    0    1     0   1   1    1    1"
       ]
      }
     ],
     "prompt_number": 35
    },
    {
     "cell_type": "markdown",
     "metadata": {},
     "source": [
      "Boom!  We just converted words into a linear algebra problem!  Computers can handle linear algebra, mission accomplished."
     ]
    },
    {
     "cell_type": "markdown",
     "metadata": {},
     "source": [
      "###Not So Fast...\n",
      "\n",
      "Mission almost accomplished.   The problem with our counting strategy is that we use alot of words commonly, that just don't mean much.  In fact, the most commonly used word in the english language (the) makes up 7% of the words we speak, which is double the frequency of the next most popular word (of).   The distribution of words in language is a power law distribution, which is the basis for Zipf's law. [(Wikipedia)](http://en.wikipedia.org/wiki/Zipf%27s_law)\n",
      "\n",
      "So, if we construct our document matrix out of counts, then we end up with numbers that don't contain much information, unless our goal was to see who uses 'the' most often.  \n",
      "\n",
      "###TF-IDF - A better Strategy\n",
      "\n",
      "Rather than just counting, we can use the [TF-IDF](http://en.wikipedia.org/wiki/Tf%E2%80%93idf) score of a word to rank it's importance.   \n",
      "\n",
      "The tfidf score of a word, w, is:\n",
      "$$tf(w) * idf(w)$$\n",
      "\n",
      "Where tf(w) = (Number of times the word appears in a document) / (Total number of words in the document)\n",
      "\n",
      "And where idf(w) = log(Number of documents / Number of documents that contain word w )."
     ]
    },
    {
     "cell_type": "code",
     "collapsed": false,
     "input": [
      "def computeTF(wordDict, bow):\n",
      "    tfDict = {}\n",
      "    bowCount = len(bow)\n",
      "    for word, count in wordDict.iteritems():\n",
      "        tfDict[word] = count / float(bowCount)\n",
      "    return tfDict"
     ],
     "language": "python",
     "metadata": {},
     "outputs": [],
     "prompt_number": 45
    },
    {
     "cell_type": "code",
     "collapsed": false,
     "input": [
      "tfBowA = computeTF(wordDictA, bowA)\n",
      "tfBowB = computeTF(wordDictB, bowB)"
     ],
     "language": "python",
     "metadata": {},
     "outputs": [],
     "prompt_number": 48
    },
    {
     "cell_type": "code",
     "collapsed": false,
     "input": [
      "def computeIDF(docList):\n",
      "    import math\n",
      "    idfDict = {}\n",
      "    N = len(docList)\n",
      "    \n",
      "    #counts the number of documents that contain a word w\n",
      "    idfDict = dict.fromkeys(docList[0].keys(),0)\n",
      "    for doc in docList:\n",
      "        for word, val in doc.iteritems():\n",
      "            if val > 0:\n",
      "                idfDict[word] +=1\n",
      "                \n",
      "    #divide N by denominator above, take the log of that\n",
      "    for word, val in idfDict.iteritems():\n",
      "        idfDict[word]= math.log(N / float(val)) \n",
      "\n",
      "    return idfDict\n",
      "    \n",
      "   \n",
      "    "
     ],
     "language": "python",
     "metadata": {},
     "outputs": [],
     "prompt_number": 79
    },
    {
     "cell_type": "code",
     "collapsed": false,
     "input": [
      "idfs = computeIDF([wordDictA, wordDictB])"
     ],
     "language": "python",
     "metadata": {},
     "outputs": [],
     "prompt_number": 81
    },
    {
     "cell_type": "code",
     "collapsed": false,
     "input": [
      "def computeTFIDF(tfBow, idfs):\n",
      "    tfidf = {}\n",
      "    for word, val in tfBow.iteritems():\n",
      "        tfidf[word] = val * idfs[word]\n",
      "    return tfidf\n"
     ],
     "language": "python",
     "metadata": {},
     "outputs": [],
     "prompt_number": 84
    },
    {
     "cell_type": "code",
     "collapsed": false,
     "input": [
      "tfidfBowA =  computeTFIDF(tfBowA, idfs)\n",
      "tfidfBowB = computeTFIDF(tfBowB, idfs)"
     ],
     "language": "python",
     "metadata": {},
     "outputs": [],
     "prompt_number": 87
    },
    {
     "cell_type": "code",
     "collapsed": false,
     "input": [
      "#Lastly I'll stick those into a matrix.\n",
      "import pandas as pd\n",
      "pd.DataFrame([tfidfBowA, tfidfBowB])"
     ],
     "language": "python",
     "metadata": {},
     "outputs": [
      {
       "html": [
        "<div style=\"max-height:1000px;max-width:1500px;overflow:auto;\">\n",
        "<table border=\"1\" class=\"dataframe\">\n",
        "  <thead>\n",
        "    <tr style=\"text-align: right;\">\n",
        "      <th></th>\n",
        "      <th>bed</th>\n",
        "      <th>cat</th>\n",
        "      <th>dog</th>\n",
        "      <th>face</th>\n",
        "      <th>my</th>\n",
        "      <th>on</th>\n",
        "      <th>sat</th>\n",
        "      <th>the</th>\n",
        "    </tr>\n",
        "  </thead>\n",
        "  <tbody>\n",
        "    <tr>\n",
        "      <th>0</th>\n",
        "      <td> 0.000000</td>\n",
        "      <td> 0.115525</td>\n",
        "      <td> 0.000000</td>\n",
        "      <td> 0.115525</td>\n",
        "      <td> 0</td>\n",
        "      <td> 0</td>\n",
        "      <td> 0</td>\n",
        "      <td> 0</td>\n",
        "    </tr>\n",
        "    <tr>\n",
        "      <th>1</th>\n",
        "      <td> 0.115525</td>\n",
        "      <td> 0.000000</td>\n",
        "      <td> 0.115525</td>\n",
        "      <td> 0.000000</td>\n",
        "      <td> 0</td>\n",
        "      <td> 0</td>\n",
        "      <td> 0</td>\n",
        "      <td> 0</td>\n",
        "    </tr>\n",
        "  </tbody>\n",
        "</table>\n",
        "</div>"
       ],
       "metadata": {},
       "output_type": "pyout",
       "prompt_number": 88,
       "text": [
        "        bed       cat       dog      face  my  on  sat  the\n",
        "0  0.000000  0.115525  0.000000  0.115525   0   0    0    0\n",
        "1  0.115525  0.000000  0.115525  0.000000   0   0    0    0"
       ]
      }
     ],
     "prompt_number": 88
    },
    {
     "cell_type": "code",
     "collapsed": false,
     "input": [],
     "language": "python",
     "metadata": {},
     "outputs": []
    }
   ],
   "metadata": {}
  }
 ]
}